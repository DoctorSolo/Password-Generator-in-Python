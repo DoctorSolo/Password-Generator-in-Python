{
 "cells": [
  {
   "cell_type": "code",
   "execution_count": 1,
   "id": "fea57adc",
   "metadata": {},
   "outputs": [],
   "source": [
    "from Password_Generator import Password_Generator"
   ]
  },
  {
   "cell_type": "code",
   "execution_count": 4,
   "id": "17141567",
   "metadata": {},
   "outputs": [],
   "source": [
    "senha1 = Password_Generator(50)"
   ]
  },
  {
   "cell_type": "code",
   "execution_count": 5,
   "id": "99f7b98a",
   "metadata": {},
   "outputs": [
    {
     "data": {
      "text/plain": [
       "\"'10`?n7~rwKwWQ6,52Ny5~RZ[1eL3m[0TOIh2hkb9q~poBT}'-\""
      ]
     },
     "execution_count": 5,
     "metadata": {},
     "output_type": "execute_result"
    }
   ],
   "source": [
    "senha1.Generator()"
   ]
  }
 ],
 "metadata": {
  "kernelspec": {
   "display_name": "base",
   "language": "python",
   "name": "python3"
  },
  "language_info": {
   "codemirror_mode": {
    "name": "ipython",
    "version": 3
   },
   "file_extension": ".py",
   "mimetype": "text/x-python",
   "name": "python",
   "nbconvert_exporter": "python",
   "pygments_lexer": "ipython3",
   "version": "3.12.7"
  }
 },
 "nbformat": 4,
 "nbformat_minor": 5
}
